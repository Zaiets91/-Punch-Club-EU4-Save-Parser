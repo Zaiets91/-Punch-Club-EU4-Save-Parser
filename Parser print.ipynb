{
 "cells": [
  {
   "cell_type": "code",
   "execution_count": null,
   "metadata": {
    "collapsed": true
   },
   "outputs": [],
   "source": [
    "import re\n",
    "\n",
    "FILENAME = 'save games/mp_Shimazu1507_02_17.eu4'\n",
    "\n",
    "regex = '''^(  |\\t)(?P<country>[A-Z]{3})={(?!\\n\\t\\t(has|gov))\n",
    ".+?was_player=yes\n",
    ".+?capped_development=(?P<dev>[0-9]+\\.[0-9]{3})\n",
    ".+?realm_development=(?P<eff_dev>[0-9]+\\.[0-9]{3})\n",
    ".+?max_land_morale=(?P<land_morale>[0-9]+\\.[0-9]{3})\n",
    ".+?max_naval_morale=(?P<naval_morale>[0-9]+\\.[0-9]{3})\n",
    ".+?(  |\\t)score=(?P<score>[0-9]+\\.[0-9]{3})\n",
    ".+?treasury=(?P<treasury>[0-9]+\\.[0-9]{3})\n",
    ".+?estimated_monthly_income=(?P<income>[0-9]+\\.[0-9]{3})\n",
    ".+?army_tradition=(?P<army_tradition>[0-9]+\\.[0-9]{3})\n",
    ".+?navy_tradition=(?P<navy_tradition>[0-9]+\\.[0-9]{3})\n",
    ".+?max_manpower=(?P<manpower>[0-9]+\\.[0-9]{3})'''\n",
    "data = open(FILENAME, \"r\").read()\n",
    "x = re.compile(regex, re.MULTILINE | re.DOTALL)\n",
    "\n",
    "countries = data.split(\"\\ncountries={\")[1]\n",
    "result = x.finditer(countries)\n",
    "\n",
    "print ('{0:7s}  {1:7s} {2:7s} {3:7s} {4:7s} {5:7s} {6:7s} {7:7s} {8:7s} {9:7s} {10:7s}'.format('Country', 'Total_dev', 'Effective_dev', 'Land_morale', 'Naval_morale', 'Score', 'Treasury', 'Income', 'Army_tradition', 'Navy_tradition', 'Manpower'))\n",
    "\n",
    "for match in result:\n",
    "    print(\"%(country)7s %(dev)7s %(eff_dev)7s %(land_morale)7s %(naval_morale)7s %(score)7s %(treasury)7s %(income)7s %(army_tradition)7s %(navy_tradition)7s %(manpower)7s\" % match.groupdict())\n",
    "\n",
    "    \n"
   ]
  }
 ],
 "metadata": {
  "anaconda-cloud": {},
  "kernelspec": {
   "display_name": "Python [conda root]",
   "language": "python",
   "name": "conda-root-py"
  },
  "language_info": {
   "codemirror_mode": {
    "name": "ipython",
    "version": 2
   },
   "file_extension": ".py",
   "mimetype": "text/x-python",
   "name": "python",
   "nbconvert_exporter": "python",
   "pygments_lexer": "ipython2",
   "version": "2.7.12"
  }
 },
 "nbformat": 4,
 "nbformat_minor": 1
}
